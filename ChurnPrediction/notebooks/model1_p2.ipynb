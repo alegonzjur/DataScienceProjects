{
 "cells": [
  {
   "cell_type": "markdown",
   "id": "cf90e204",
   "metadata": {},
   "source": [
    "# Customer Churn Prediction P2\n",
    "\n",
    "This is a new notebook to work with previous files from the notebook \"model1_p1.ipynb\"."
   ]
  }
 ],
 "metadata": {
  "language_info": {
   "name": "python"
  }
 },
 "nbformat": 4,
 "nbformat_minor": 5
}
