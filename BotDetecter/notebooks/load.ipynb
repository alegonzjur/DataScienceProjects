{
 "cells": [
  {
   "cell_type": "markdown",
   "id": "6f19a0eb",
   "metadata": {},
   "source": [
    "### BotDetecter\n",
    "\n",
    "The goal of this project is to develop a Machine Learning model that classifies accounts on social media as bot or human based on metadata or behaviors."
   ]
  },
  {
   "cell_type": "markdown",
   "id": "2693b7b3",
   "metadata": {},
   "source": [
    "## Loading the dataset\n",
    "\n",
    "The dataset has been extracted from ([[Botometer](https://botometer.osome.iu.edu/bot-repository/datasets.html)]). The original file is in a \".tar.gz\" format. I will start by converting to a \".csv\" file that i can manipulate."
   ]
  },
  {
   "cell_type": "code",
   "execution_count": 1,
   "id": "d2dcca37",
   "metadata": {},
   "outputs": [
    {
     "name": "stdout",
     "output_type": "stream",
     "text": [
      "['botometer-feedback-2019.tsv', 'botometer-feedback-2019_tweets.json']\n"
     ]
    }
   ],
   "source": [
    "import tarfile \n",
    "import pandas as pd    \n",
    "\n",
    "# Route to tar.gz file.\n",
    "tar_path = '../data/botometer-feedback-2019.tar.gz'\n",
    "\n",
    "# Opening the tar file.\n",
    "with tarfile.open(tar_path, 'r:gz') as tar:\n",
    "    # Showing the files.\n",
    "    print(tar.getnames())"
   ]
  },
  {
   "cell_type": "markdown",
   "id": "2abdd97d",
   "metadata": {},
   "source": [
    "There is an .tsv file, it's the same as a .csv file but separated using tabs. Now, i will extract the tsv file and transform it."
   ]
  },
  {
   "cell_type": "code",
   "execution_count": 11,
   "id": "fdda0e89",
   "metadata": {},
   "outputs": [
    {
     "name": "stdout",
     "output_type": "stream",
     "text": [
      "TSV File extracted succesfully!\n",
      "Dataframe created succesfully!\n",
      "Column names are: Index(['2718436417', 'human'], dtype='object')\n"
     ]
    },
    {
     "data": {
      "text/html": [
       "<div>\n",
       "<style scoped>\n",
       "    .dataframe tbody tr th:only-of-type {\n",
       "        vertical-align: middle;\n",
       "    }\n",
       "\n",
       "    .dataframe tbody tr th {\n",
       "        vertical-align: top;\n",
       "    }\n",
       "\n",
       "    .dataframe thead th {\n",
       "        text-align: right;\n",
       "    }\n",
       "</style>\n",
       "<table border=\"1\" class=\"dataframe\">\n",
       "  <thead>\n",
       "    <tr style=\"text-align: right;\">\n",
       "      <th></th>\n",
       "      <th>2718436417</th>\n",
       "      <th>human</th>\n",
       "    </tr>\n",
       "  </thead>\n",
       "  <tbody>\n",
       "    <tr>\n",
       "      <th>0</th>\n",
       "      <td>792615528791703553</td>\n",
       "      <td>human</td>\n",
       "    </tr>\n",
       "    <tr>\n",
       "      <th>1</th>\n",
       "      <td>3287012484</td>\n",
       "      <td>human</td>\n",
       "    </tr>\n",
       "    <tr>\n",
       "      <th>2</th>\n",
       "      <td>93816184</td>\n",
       "      <td>human</td>\n",
       "    </tr>\n",
       "    <tr>\n",
       "      <th>3</th>\n",
       "      <td>754884880996020225</td>\n",
       "      <td>bot</td>\n",
       "    </tr>\n",
       "    <tr>\n",
       "      <th>4</th>\n",
       "      <td>3027809025</td>\n",
       "      <td>bot</td>\n",
       "    </tr>\n",
       "  </tbody>\n",
       "</table>\n",
       "</div>"
      ],
      "text/plain": [
       "           2718436417  human\n",
       "0  792615528791703553  human\n",
       "1          3287012484  human\n",
       "2            93816184  human\n",
       "3  754884880996020225    bot\n",
       "4          3027809025    bot"
      ]
     },
     "execution_count": 11,
     "metadata": {},
     "output_type": "execute_result"
    }
   ],
   "source": [
    "with tarfile.open(tar_path, 'r:gz') as tar:    \n",
    "    tsv_file = tar.extractfile('botometer-feedback-2019.tsv')\n",
    "    print(f'TSV File extracted succesfully!')\n",
    "    df = pd.read_csv(tsv_file, sep='\\t', header=0)\n",
    "    print(f'Dataframe created succesfully!')\n",
    "    print(f'Column names are: {df.columns}')\n",
    "df.head()"
   ]
  },
  {
   "cell_type": "markdown",
   "id": "9fa97f77",
   "metadata": {},
   "source": [
    "It doesn't have a header. I will create one manually."
   ]
  },
  {
   "cell_type": "code",
   "execution_count": 12,
   "id": "5d6369e6",
   "metadata": {},
   "outputs": [
    {
     "name": "stdout",
     "output_type": "stream",
     "text": [
      "TSV File extracted succesfully!\n",
      "Dataframe created succesfully!\n",
      "Column names are: Index(['user_id', 'label'], dtype='object')\n"
     ]
    },
    {
     "data": {
      "text/html": [
       "<div>\n",
       "<style scoped>\n",
       "    .dataframe tbody tr th:only-of-type {\n",
       "        vertical-align: middle;\n",
       "    }\n",
       "\n",
       "    .dataframe tbody tr th {\n",
       "        vertical-align: top;\n",
       "    }\n",
       "\n",
       "    .dataframe thead th {\n",
       "        text-align: right;\n",
       "    }\n",
       "</style>\n",
       "<table border=\"1\" class=\"dataframe\">\n",
       "  <thead>\n",
       "    <tr style=\"text-align: right;\">\n",
       "      <th></th>\n",
       "      <th>user_id</th>\n",
       "      <th>label</th>\n",
       "    </tr>\n",
       "  </thead>\n",
       "  <tbody>\n",
       "    <tr>\n",
       "      <th>0</th>\n",
       "      <td>2718436417</td>\n",
       "      <td>human</td>\n",
       "    </tr>\n",
       "    <tr>\n",
       "      <th>1</th>\n",
       "      <td>792615528791703553</td>\n",
       "      <td>human</td>\n",
       "    </tr>\n",
       "    <tr>\n",
       "      <th>2</th>\n",
       "      <td>3287012484</td>\n",
       "      <td>human</td>\n",
       "    </tr>\n",
       "    <tr>\n",
       "      <th>3</th>\n",
       "      <td>93816184</td>\n",
       "      <td>human</td>\n",
       "    </tr>\n",
       "    <tr>\n",
       "      <th>4</th>\n",
       "      <td>754884880996020225</td>\n",
       "      <td>bot</td>\n",
       "    </tr>\n",
       "  </tbody>\n",
       "</table>\n",
       "</div>"
      ],
      "text/plain": [
       "              user_id  label\n",
       "0          2718436417  human\n",
       "1  792615528791703553  human\n",
       "2          3287012484  human\n",
       "3            93816184  human\n",
       "4  754884880996020225    bot"
      ]
     },
     "execution_count": 12,
     "metadata": {},
     "output_type": "execute_result"
    }
   ],
   "source": [
    "column_names = ['user_id', 'label']  \n",
    "with tarfile.open(tar_path, 'r:gz') as tar:\n",
    "    tsv_file = tar.extractfile('botometer-feedback-2019.tsv')\n",
    "    print(f'TSV File extracted succesfully!')\n",
    "    df = pd.read_csv(tsv_file, sep='\\t', header=None, names=column_names)\n",
    "    print(f'Dataframe created succesfully!')\n",
    "    print(f'Column names are: {df.columns}')\n",
    "df.head()"
   ]
  },
  {
   "cell_type": "markdown",
   "id": "87ed8511",
   "metadata": {},
   "source": [
    "I will load the json file, for future usages."
   ]
  },
  {
   "cell_type": "code",
   "execution_count": 17,
   "id": "303bfb04",
   "metadata": {},
   "outputs": [
    {
     "name": "stdout",
     "output_type": "stream",
     "text": [
      "JSON File loaded succesfully!\n",
      "First 1 tweets are: [{'created_at': 'Mon Apr 16 19:28:33 +0000 2018', 'user': {'follow_request_sent': False, 'has_extended_profile': False, 'profile_use_background_image': False, 'default_profile_image': False, 'id': 602249341, 'profile_background_image_url_https': 'https://abs.twimg.com/images/themes/theme4/bg.gif', 'verified': False, 'translator_type': 'none', 'profile_text_color': '000000', 'profile_image_url_https': 'https://pbs.twimg.com/profile_images/923924342974578688/k5RCrlSQ_normal.jpg', 'profile_sidebar_fill_color': '000000', 'entities': {'url': {'urls': [{'url': 'https://t.co/e5t6p9w7D8', 'indices': [0, 23], 'expanded_url': 'http://www.socialresultsltd.com', 'display_url': 'socialresultsltd.com'}]}, 'description': {'urls': []}}, 'followers_count': 790, 'profile_sidebar_border_color': '000000', 'id_str': '602249341', 'profile_background_color': '000000', 'listed_count': 42, 'is_translation_enabled': False, 'utc_offset': 3600, 'statuses_count': 6252, 'description': 'Strategic Creative Social Media & Community Engagement Manager. Webeditrix. Digital PR. @sresultsltd #Human #GlutenFree #Short Many opinions🐧🏳️\\u200d🌈🇪🇺🇬🇧🏴🤓', 'friends_count': 3218, 'location': 'London - mostly', 'profile_link_color': '409FCE', 'profile_image_url': 'http://pbs.twimg.com/profile_images/923924342974578688/k5RCrlSQ_normal.jpg', 'following': False, 'geo_enabled': True, 'profile_banner_url': 'https://pbs.twimg.com/profile_banners/602249341/1517868114', 'profile_background_image_url': 'http://abs.twimg.com/images/themes/theme4/bg.gif', 'screen_name': 'EmmaDingle', 'lang': 'en', 'profile_background_tile': False, 'favourites_count': 12898, 'name': 'Emma Dingle🐧🏳️\\u200d🌈🇪🇺🇬🇧🏴🤓', 'notifications': False, 'url': 'https://t.co/e5t6p9w7D8', 'created_at': 'Thu Jun 07 22:16:27 +0000 2012', 'contributors_enabled': False, 'time_zone': 'London', 'protected': False, 'default_profile': False, 'is_translator': False}}]\n"
     ]
    }
   ],
   "source": [
    "import json \n",
    "\n",
    "with tarfile.open(tar_path,'r:gz') as tar:\n",
    "    json_file = tar.extractfile('botometer-feedback-2019_tweets.json')\n",
    "    tweets_data = json.load(json_file)\n",
    "    print(f'JSON File loaded succesfully!')\n",
    "    \n",
    "# first_user = list(tweets_data.keys())[0]\n",
    "n = 1\n",
    "print(f'First {n} tweets are: {tweets_data[:n]}')"
   ]
  },
  {
   "cell_type": "markdown",
   "id": "5add4266",
   "metadata": {},
   "source": [
    "Now, i will save both files to make the load easier in other processes."
   ]
  },
  {
   "cell_type": "code",
   "execution_count": 18,
   "id": "017da3cd",
   "metadata": {},
   "outputs": [
    {
     "name": "stdout",
     "output_type": "stream",
     "text": [
      "JSON file saved succesfully!\n"
     ]
    }
   ],
   "source": [
    "# Saving the DF as csv.\n",
    "df.to_csv('../data/bot_df.csv', index=False)\n",
    "# Saving the JSON file.\n",
    "with open ('../data/bot_tweets.json', 'w', encoding='utf-8') as f:\n",
    "    json.dump(tweets_data,f)\n",
    "    print(f'JSON file saved succesfully!')"
   ]
  }
 ],
 "metadata": {
  "kernelspec": {
   "display_name": "Python 3",
   "language": "python",
   "name": "python3"
  },
  "language_info": {
   "codemirror_mode": {
    "name": "ipython",
    "version": 3
   },
   "file_extension": ".py",
   "mimetype": "text/x-python",
   "name": "python",
   "nbconvert_exporter": "python",
   "pygments_lexer": "ipython3",
   "version": "3.12.9"
  }
 },
 "nbformat": 4,
 "nbformat_minor": 5
}
