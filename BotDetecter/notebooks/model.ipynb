{
 "cells": [
  {
   "cell_type": "markdown",
   "id": "9d43c301",
   "metadata": {},
   "source": [
    "## Loading & data preparation"
   ]
  },
  {
   "cell_type": "markdown",
   "id": "acaee959",
   "metadata": {},
   "source": [
    "After getting the csv & json files, i will start developing the model. First, I'm going to load both files."
   ]
  },
  {
   "cell_type": "code",
   "execution_count": 1,
   "id": "63aaf0f3",
   "metadata": {},
   "outputs": [],
   "source": [
    "# Libraries needed.\n",
    "import pandas as pd\n",
    "import json\n",
    "\n",
    "# Loading the csv.\n",
    "df = pd.read_csv('../data/bot_df.csv')\n",
    "df['user_id'] = df['user_id'].astype(str)\n",
    "\n",
    "# Loading tweets & metadata from JSON file.\n",
    "with open('../data/bot_tweets.json', 'r', encoding='utf-8') as f:\n",
    "    tweets_data = json.load(f)"
   ]
  },
  {
   "cell_type": "markdown",
   "id": "e9475b80",
   "metadata": {},
   "source": [
    "Checking that it worked."
   ]
  },
  {
   "cell_type": "code",
   "execution_count": 2,
   "id": "4ea0a675",
   "metadata": {},
   "outputs": [
    {
     "data": {
      "text/html": [
       "<div>\n",
       "<style scoped>\n",
       "    .dataframe tbody tr th:only-of-type {\n",
       "        vertical-align: middle;\n",
       "    }\n",
       "\n",
       "    .dataframe tbody tr th {\n",
       "        vertical-align: top;\n",
       "    }\n",
       "\n",
       "    .dataframe thead th {\n",
       "        text-align: right;\n",
       "    }\n",
       "</style>\n",
       "<table border=\"1\" class=\"dataframe\">\n",
       "  <thead>\n",
       "    <tr style=\"text-align: right;\">\n",
       "      <th></th>\n",
       "      <th>user_id</th>\n",
       "      <th>label</th>\n",
       "    </tr>\n",
       "  </thead>\n",
       "  <tbody>\n",
       "    <tr>\n",
       "      <th>0</th>\n",
       "      <td>2718436417</td>\n",
       "      <td>human</td>\n",
       "    </tr>\n",
       "    <tr>\n",
       "      <th>1</th>\n",
       "      <td>792615528791703553</td>\n",
       "      <td>human</td>\n",
       "    </tr>\n",
       "    <tr>\n",
       "      <th>2</th>\n",
       "      <td>3287012484</td>\n",
       "      <td>human</td>\n",
       "    </tr>\n",
       "    <tr>\n",
       "      <th>3</th>\n",
       "      <td>93816184</td>\n",
       "      <td>human</td>\n",
       "    </tr>\n",
       "    <tr>\n",
       "      <th>4</th>\n",
       "      <td>754884880996020225</td>\n",
       "      <td>bot</td>\n",
       "    </tr>\n",
       "  </tbody>\n",
       "</table>\n",
       "</div>"
      ],
      "text/plain": [
       "              user_id  label\n",
       "0          2718436417  human\n",
       "1  792615528791703553  human\n",
       "2          3287012484  human\n",
       "3            93816184  human\n",
       "4  754884880996020225    bot"
      ]
     },
     "execution_count": 2,
     "metadata": {},
     "output_type": "execute_result"
    }
   ],
   "source": [
    "df.head()"
   ]
  },
  {
   "cell_type": "code",
   "execution_count": 3,
   "id": "08ce4075",
   "metadata": {},
   "outputs": [
    {
     "name": "stdout",
     "output_type": "stream",
     "text": [
      "<class 'pandas.core.frame.DataFrame'>\n",
      "RangeIndex: 529 entries, 0 to 528\n",
      "Data columns (total 2 columns):\n",
      " #   Column   Non-Null Count  Dtype \n",
      "---  ------   --------------  ----- \n",
      " 0   user_id  529 non-null    object\n",
      " 1   label    529 non-null    object\n",
      "dtypes: object(2)\n",
      "memory usage: 8.4+ KB\n"
     ]
    }
   ],
   "source": [
    "df.info()"
   ]
  },
  {
   "cell_type": "code",
   "execution_count": 4,
   "id": "ece9665d",
   "metadata": {},
   "outputs": [
    {
     "name": "stdout",
     "output_type": "stream",
     "text": [
      "<class 'list'>\n"
     ]
    }
   ],
   "source": [
    "print(type(tweets_data)) "
   ]
  },
  {
   "cell_type": "markdown",
   "id": "84044fff",
   "metadata": {},
   "source": [
    "I need the info of the JSON file on a dataframe to put it all together.\n",
    "\n",
    "JSON file is structured as a list. I need a dictionary, therefore i will create with defaultdict."
   ]
  },
  {
   "cell_type": "code",
   "execution_count": 5,
   "id": "c4416776",
   "metadata": {},
   "outputs": [],
   "source": [
    "from collections import defaultdict\n",
    "\n",
    "user_tweet_map = defaultdict(list)"
   ]
  },
  {
   "cell_type": "markdown",
   "id": "f305c4cd",
   "metadata": {},
   "source": [
    "I'm grouping tweets with their users_id."
   ]
  },
  {
   "cell_type": "code",
   "execution_count": 6,
   "id": "5b1a9277",
   "metadata": {},
   "outputs": [],
   "source": [
    "for tweet in tweets_data:\n",
    "    user_id = tweet['user']['id_str']\n",
    "    user_tweet_map[user_id].append(tweet)"
   ]
  },
  {
   "cell_type": "markdown",
   "id": "965eb249",
   "metadata": {},
   "source": [
    "Finally, I extract the data and insert it on a dataframe"
   ]
  },
  {
   "cell_type": "code",
   "execution_count": 7,
   "id": "3146c22b",
   "metadata": {},
   "outputs": [],
   "source": [
    "# Empty list of dicc.\n",
    "user_metadata = []\n",
    "\n",
    "for user_id, tweets in user_tweet_map.items():\n",
    "    if not tweets:\n",
    "        continue\n",
    "    user_profile = tweets[0]['user']\n",
    "    user_profile['user_id'] = user_id\n",
    "    user_metadata.append(user_profile)\n",
    "\n",
    "df_users = pd.DataFrame(user_metadata)"
   ]
  },
  {
   "cell_type": "code",
   "execution_count": 8,
   "id": "015c9a86",
   "metadata": {},
   "outputs": [
    {
     "data": {
      "text/html": [
       "<div>\n",
       "<style scoped>\n",
       "    .dataframe tbody tr th:only-of-type {\n",
       "        vertical-align: middle;\n",
       "    }\n",
       "\n",
       "    .dataframe tbody tr th {\n",
       "        vertical-align: top;\n",
       "    }\n",
       "\n",
       "    .dataframe thead th {\n",
       "        text-align: right;\n",
       "    }\n",
       "</style>\n",
       "<table border=\"1\" class=\"dataframe\">\n",
       "  <thead>\n",
       "    <tr style=\"text-align: right;\">\n",
       "      <th></th>\n",
       "      <th>follow_request_sent</th>\n",
       "      <th>has_extended_profile</th>\n",
       "      <th>profile_use_background_image</th>\n",
       "      <th>default_profile_image</th>\n",
       "      <th>id</th>\n",
       "      <th>profile_background_image_url_https</th>\n",
       "      <th>verified</th>\n",
       "      <th>translator_type</th>\n",
       "      <th>profile_text_color</th>\n",
       "      <th>profile_image_url_https</th>\n",
       "      <th>...</th>\n",
       "      <th>name</th>\n",
       "      <th>notifications</th>\n",
       "      <th>url</th>\n",
       "      <th>created_at</th>\n",
       "      <th>contributors_enabled</th>\n",
       "      <th>time_zone</th>\n",
       "      <th>protected</th>\n",
       "      <th>default_profile</th>\n",
       "      <th>is_translator</th>\n",
       "      <th>user_id</th>\n",
       "    </tr>\n",
       "  </thead>\n",
       "  <tbody>\n",
       "    <tr>\n",
       "      <th>0</th>\n",
       "      <td>False</td>\n",
       "      <td>False</td>\n",
       "      <td>False</td>\n",
       "      <td>False</td>\n",
       "      <td>602249341</td>\n",
       "      <td>https://abs.twimg.com/images/themes/theme4/bg.gif</td>\n",
       "      <td>False</td>\n",
       "      <td>none</td>\n",
       "      <td>000000</td>\n",
       "      <td>https://pbs.twimg.com/profile_images/923924342...</td>\n",
       "      <td>...</td>\n",
       "      <td>Emma Dingle🐧🏳️‍🌈🇪🇺🇬🇧🏴🤓</td>\n",
       "      <td>False</td>\n",
       "      <td>https://t.co/e5t6p9w7D8</td>\n",
       "      <td>Thu Jun 07 22:16:27 +0000 2012</td>\n",
       "      <td>False</td>\n",
       "      <td>London</td>\n",
       "      <td>False</td>\n",
       "      <td>False</td>\n",
       "      <td>False</td>\n",
       "      <td>602249341</td>\n",
       "    </tr>\n",
       "    <tr>\n",
       "      <th>1</th>\n",
       "      <td>False</td>\n",
       "      <td>True</td>\n",
       "      <td>False</td>\n",
       "      <td>False</td>\n",
       "      <td>797617218511060992</td>\n",
       "      <td>https://abs.twimg.com/images/themes/theme1/bg.png</td>\n",
       "      <td>False</td>\n",
       "      <td>none</td>\n",
       "      <td>000000</td>\n",
       "      <td>https://pbs.twimg.com/profile_images/855244571...</td>\n",
       "      <td>...</td>\n",
       "      <td>Wolverine 2018💥</td>\n",
       "      <td>False</td>\n",
       "      <td>None</td>\n",
       "      <td>Sun Nov 13 01:48:58 +0000 2016</td>\n",
       "      <td>False</td>\n",
       "      <td>Pacific Time (US &amp; Canada)</td>\n",
       "      <td>False</td>\n",
       "      <td>False</td>\n",
       "      <td>False</td>\n",
       "      <td>797617218511060992</td>\n",
       "    </tr>\n",
       "    <tr>\n",
       "      <th>2</th>\n",
       "      <td>False</td>\n",
       "      <td>False</td>\n",
       "      <td>True</td>\n",
       "      <td>False</td>\n",
       "      <td>889925474</td>\n",
       "      <td>https://pbs.twimg.com/profile_background_image...</td>\n",
       "      <td>False</td>\n",
       "      <td>none</td>\n",
       "      <td>333333</td>\n",
       "      <td>https://pbs.twimg.com/profile_images/964079832...</td>\n",
       "      <td>...</td>\n",
       "      <td>Rob Palm Whistler</td>\n",
       "      <td>False</td>\n",
       "      <td>http://t.co/7gh2Iu1AT4</td>\n",
       "      <td>Thu Oct 18 23:19:38 +0000 2012</td>\n",
       "      <td>False</td>\n",
       "      <td>None</td>\n",
       "      <td>False</td>\n",
       "      <td>False</td>\n",
       "      <td>False</td>\n",
       "      <td>889925474</td>\n",
       "    </tr>\n",
       "    <tr>\n",
       "      <th>3</th>\n",
       "      <td>False</td>\n",
       "      <td>True</td>\n",
       "      <td>True</td>\n",
       "      <td>False</td>\n",
       "      <td>96435556</td>\n",
       "      <td>https://abs.twimg.com/images/themes/theme6/bg.gif</td>\n",
       "      <td>False</td>\n",
       "      <td>none</td>\n",
       "      <td>333333</td>\n",
       "      <td>https://pbs.twimg.com/profile_images/311429969...</td>\n",
       "      <td>...</td>\n",
       "      <td>Mariano</td>\n",
       "      <td>False</td>\n",
       "      <td>None</td>\n",
       "      <td>Sat Dec 12 22:53:04 +0000 2009</td>\n",
       "      <td>False</td>\n",
       "      <td>Rome</td>\n",
       "      <td>False</td>\n",
       "      <td>False</td>\n",
       "      <td>False</td>\n",
       "      <td>96435556</td>\n",
       "    </tr>\n",
       "    <tr>\n",
       "      <th>4</th>\n",
       "      <td>False</td>\n",
       "      <td>False</td>\n",
       "      <td>True</td>\n",
       "      <td>False</td>\n",
       "      <td>16905397</td>\n",
       "      <td>https://pbs.twimg.com/profile_background_image...</td>\n",
       "      <td>False</td>\n",
       "      <td>regular</td>\n",
       "      <td>666666</td>\n",
       "      <td>https://pbs.twimg.com/profile_images/969705141...</td>\n",
       "      <td>...</td>\n",
       "      <td>Torsten Larbig</td>\n",
       "      <td>False</td>\n",
       "      <td>https://t.co/VRgsX8eVR2</td>\n",
       "      <td>Wed Oct 22 13:43:42 +0000 2008</td>\n",
       "      <td>False</td>\n",
       "      <td>Bern</td>\n",
       "      <td>False</td>\n",
       "      <td>False</td>\n",
       "      <td>False</td>\n",
       "      <td>16905397</td>\n",
       "    </tr>\n",
       "  </tbody>\n",
       "</table>\n",
       "<p>5 rows × 43 columns</p>\n",
       "</div>"
      ],
      "text/plain": [
       "   follow_request_sent  has_extended_profile  profile_use_background_image  \\\n",
       "0                False                 False                         False   \n",
       "1                False                  True                         False   \n",
       "2                False                 False                          True   \n",
       "3                False                  True                          True   \n",
       "4                False                 False                          True   \n",
       "\n",
       "   default_profile_image                  id  \\\n",
       "0                  False           602249341   \n",
       "1                  False  797617218511060992   \n",
       "2                  False           889925474   \n",
       "3                  False            96435556   \n",
       "4                  False            16905397   \n",
       "\n",
       "                  profile_background_image_url_https  verified  \\\n",
       "0  https://abs.twimg.com/images/themes/theme4/bg.gif     False   \n",
       "1  https://abs.twimg.com/images/themes/theme1/bg.png     False   \n",
       "2  https://pbs.twimg.com/profile_background_image...     False   \n",
       "3  https://abs.twimg.com/images/themes/theme6/bg.gif     False   \n",
       "4  https://pbs.twimg.com/profile_background_image...     False   \n",
       "\n",
       "  translator_type profile_text_color  \\\n",
       "0            none             000000   \n",
       "1            none             000000   \n",
       "2            none             333333   \n",
       "3            none             333333   \n",
       "4         regular             666666   \n",
       "\n",
       "                             profile_image_url_https  ...  \\\n",
       "0  https://pbs.twimg.com/profile_images/923924342...  ...   \n",
       "1  https://pbs.twimg.com/profile_images/855244571...  ...   \n",
       "2  https://pbs.twimg.com/profile_images/964079832...  ...   \n",
       "3  https://pbs.twimg.com/profile_images/311429969...  ...   \n",
       "4  https://pbs.twimg.com/profile_images/969705141...  ...   \n",
       "\n",
       "                     name notifications                      url  \\\n",
       "0  Emma Dingle🐧🏳️‍🌈🇪🇺🇬🇧🏴🤓         False  https://t.co/e5t6p9w7D8   \n",
       "1         Wolverine 2018💥         False                     None   \n",
       "2       Rob Palm Whistler         False   http://t.co/7gh2Iu1AT4   \n",
       "3                 Mariano         False                     None   \n",
       "4          Torsten Larbig         False  https://t.co/VRgsX8eVR2   \n",
       "\n",
       "                       created_at contributors_enabled  \\\n",
       "0  Thu Jun 07 22:16:27 +0000 2012                False   \n",
       "1  Sun Nov 13 01:48:58 +0000 2016                False   \n",
       "2  Thu Oct 18 23:19:38 +0000 2012                False   \n",
       "3  Sat Dec 12 22:53:04 +0000 2009                False   \n",
       "4  Wed Oct 22 13:43:42 +0000 2008                False   \n",
       "\n",
       "                    time_zone  protected  default_profile  is_translator  \\\n",
       "0                      London      False            False          False   \n",
       "1  Pacific Time (US & Canada)      False            False          False   \n",
       "2                        None      False            False          False   \n",
       "3                        Rome      False            False          False   \n",
       "4                        Bern      False            False          False   \n",
       "\n",
       "              user_id  \n",
       "0           602249341  \n",
       "1  797617218511060992  \n",
       "2           889925474  \n",
       "3            96435556  \n",
       "4            16905397  \n",
       "\n",
       "[5 rows x 43 columns]"
      ]
     },
     "execution_count": 8,
     "metadata": {},
     "output_type": "execute_result"
    }
   ],
   "source": [
    "df_users.head()"
   ]
  },
  {
   "cell_type": "markdown",
   "id": "6a842eeb",
   "metadata": {},
   "source": [
    "Mixing all the info in a single dataframe"
   ]
  },
  {
   "cell_type": "code",
   "execution_count": 9,
   "id": "05bb4294",
   "metadata": {},
   "outputs": [
    {
     "name": "stdout",
     "output_type": "stream",
     "text": [
      "(519, 44)\n",
      "Name of all columns: Index(['user_id', 'label', 'follow_request_sent', 'has_extended_profile',\n",
      "       'profile_use_background_image', 'default_profile_image', 'id',\n",
      "       'profile_background_image_url_https', 'verified', 'translator_type',\n",
      "       'profile_text_color', 'profile_image_url_https',\n",
      "       'profile_sidebar_fill_color', 'entities', 'followers_count',\n",
      "       'profile_sidebar_border_color', 'id_str', 'profile_background_color',\n",
      "       'listed_count', 'is_translation_enabled', 'utc_offset',\n",
      "       'statuses_count', 'description', 'friends_count', 'location',\n",
      "       'profile_link_color', 'profile_image_url', 'following', 'geo_enabled',\n",
      "       'profile_banner_url', 'profile_background_image_url', 'screen_name',\n",
      "       'lang', 'profile_background_tile', 'favourites_count', 'name',\n",
      "       'notifications', 'url', 'created_at', 'contributors_enabled',\n",
      "       'time_zone', 'protected', 'default_profile', 'is_translator'],\n",
      "      dtype='object')\n"
     ]
    },
    {
     "data": {
      "text/html": [
       "<div>\n",
       "<style scoped>\n",
       "    .dataframe tbody tr th:only-of-type {\n",
       "        vertical-align: middle;\n",
       "    }\n",
       "\n",
       "    .dataframe tbody tr th {\n",
       "        vertical-align: top;\n",
       "    }\n",
       "\n",
       "    .dataframe thead th {\n",
       "        text-align: right;\n",
       "    }\n",
       "</style>\n",
       "<table border=\"1\" class=\"dataframe\">\n",
       "  <thead>\n",
       "    <tr style=\"text-align: right;\">\n",
       "      <th></th>\n",
       "      <th>user_id</th>\n",
       "      <th>label</th>\n",
       "      <th>followers_count</th>\n",
       "      <th>friends_count</th>\n",
       "    </tr>\n",
       "  </thead>\n",
       "  <tbody>\n",
       "    <tr>\n",
       "      <th>0</th>\n",
       "      <td>2718436417</td>\n",
       "      <td>human</td>\n",
       "      <td>104</td>\n",
       "      <td>111</td>\n",
       "    </tr>\n",
       "    <tr>\n",
       "      <th>1</th>\n",
       "      <td>792615528791703553</td>\n",
       "      <td>human</td>\n",
       "      <td>43</td>\n",
       "      <td>104</td>\n",
       "    </tr>\n",
       "    <tr>\n",
       "      <th>2</th>\n",
       "      <td>3287012484</td>\n",
       "      <td>human</td>\n",
       "      <td>13146</td>\n",
       "      <td>4909</td>\n",
       "    </tr>\n",
       "    <tr>\n",
       "      <th>3</th>\n",
       "      <td>93816184</td>\n",
       "      <td>human</td>\n",
       "      <td>2264</td>\n",
       "      <td>483</td>\n",
       "    </tr>\n",
       "    <tr>\n",
       "      <th>4</th>\n",
       "      <td>754884880996020225</td>\n",
       "      <td>bot</td>\n",
       "      <td>5258</td>\n",
       "      <td>6228</td>\n",
       "    </tr>\n",
       "  </tbody>\n",
       "</table>\n",
       "</div>"
      ],
      "text/plain": [
       "              user_id  label  followers_count  friends_count\n",
       "0          2718436417  human              104            111\n",
       "1  792615528791703553  human               43            104\n",
       "2          3287012484  human            13146           4909\n",
       "3            93816184  human             2264            483\n",
       "4  754884880996020225    bot             5258           6228"
      ]
     },
     "execution_count": 9,
     "metadata": {},
     "output_type": "execute_result"
    }
   ],
   "source": [
    "df_full = pd.merge(df, df_users, on='user_id', how='inner')\n",
    "\n",
    "print(df_full.shape)\n",
    "print(f'Name of all columns: {df_full.columns}')\n",
    "df_full[['user_id','label','followers_count','friends_count']].head()\n"
   ]
  },
  {
   "cell_type": "markdown",
   "id": "4823c2b1",
   "metadata": {},
   "source": [
    "## Cleaning & validation\n",
    "\n",
    "Verifying if the dataframe has errors, like null, duplicated, or empty values."
   ]
  },
  {
   "cell_type": "code",
   "execution_count": 10,
   "id": "4db02a51",
   "metadata": {},
   "outputs": [],
   "source": [
    "# Dropping duplicated logs based on user_id.\n",
    "df_full = df_full.drop_duplicates(subset='user_id')"
   ]
  },
  {
   "cell_type": "code",
   "execution_count": 11,
   "id": "a8d3f681",
   "metadata": {},
   "outputs": [
    {
     "name": "stdout",
     "output_type": "stream",
     "text": [
      "Number of null values: 1103\n"
     ]
    },
    {
     "data": {
      "text/plain": [
       "url                                   318\n",
       "utc_offset                            210\n",
       "time_zone                             210\n",
       "profile_background_image_url_https    127\n",
       "profile_background_image_url          127\n",
       "profile_banner_url                    111\n",
       "default_profile_image                   0\n",
       "profile_use_background_image            0\n",
       "has_extended_profile                    0\n",
       "user_id                                 0\n",
       "dtype: int64"
      ]
     },
     "execution_count": 11,
     "metadata": {},
     "output_type": "execute_result"
    }
   ],
   "source": [
    "# Checking null values.\n",
    "print(f'Number of null values: {df_full.isna().sum().sum()}')\n",
    "df_full.isnull().sum().sort_values(ascending=False).head(10)"
   ]
  },
  {
   "cell_type": "markdown",
   "id": "8272fb64",
   "metadata": {},
   "source": [
    "Null values aren't in important columns."
   ]
  },
  {
   "cell_type": "code",
   "execution_count": 12,
   "id": "37d0ca52",
   "metadata": {},
   "outputs": [
    {
     "name": "stdout",
     "output_type": "stream",
     "text": [
      "<class 'pandas.core.frame.DataFrame'>\n",
      "Index: 518 entries, 0 to 518\n",
      "Data columns (total 44 columns):\n",
      " #   Column                              Non-Null Count  Dtype  \n",
      "---  ------                              --------------  -----  \n",
      " 0   user_id                             518 non-null    object \n",
      " 1   label                               518 non-null    object \n",
      " 2   follow_request_sent                 518 non-null    bool   \n",
      " 3   has_extended_profile                518 non-null    bool   \n",
      " 4   profile_use_background_image        518 non-null    bool   \n",
      " 5   default_profile_image               518 non-null    bool   \n",
      " 6   id                                  518 non-null    int64  \n",
      " 7   profile_background_image_url_https  391 non-null    object \n",
      " 8   verified                            518 non-null    bool   \n",
      " 9   translator_type                     518 non-null    object \n",
      " 10  profile_text_color                  518 non-null    object \n",
      " 11  profile_image_url_https             518 non-null    object \n",
      " 12  profile_sidebar_fill_color          518 non-null    object \n",
      " 13  entities                            518 non-null    object \n",
      " 14  followers_count                     518 non-null    int64  \n",
      " 15  profile_sidebar_border_color        518 non-null    object \n",
      " 16  id_str                              518 non-null    object \n",
      " 17  profile_background_color            518 non-null    object \n",
      " 18  listed_count                        518 non-null    int64  \n",
      " 19  is_translation_enabled              518 non-null    bool   \n",
      " 20  utc_offset                          308 non-null    float64\n",
      " 21  statuses_count                      518 non-null    int64  \n",
      " 22  description                         518 non-null    object \n",
      " 23  friends_count                       518 non-null    int64  \n",
      " 24  location                            518 non-null    object \n",
      " 25  profile_link_color                  518 non-null    object \n",
      " 26  profile_image_url                   518 non-null    object \n",
      " 27  following                           518 non-null    bool   \n",
      " 28  geo_enabled                         518 non-null    bool   \n",
      " 29  profile_banner_url                  407 non-null    object \n",
      " 30  profile_background_image_url        391 non-null    object \n",
      " 31  screen_name                         518 non-null    object \n",
      " 32  lang                                518 non-null    object \n",
      " 33  profile_background_tile             518 non-null    bool   \n",
      " 34  favourites_count                    518 non-null    int64  \n",
      " 35  name                                518 non-null    object \n",
      " 36  notifications                       518 non-null    bool   \n",
      " 37  url                                 200 non-null    object \n",
      " 38  created_at                          518 non-null    object \n",
      " 39  contributors_enabled                518 non-null    bool   \n",
      " 40  time_zone                           308 non-null    object \n",
      " 41  protected                           518 non-null    bool   \n",
      " 42  default_profile                     518 non-null    bool   \n",
      " 43  is_translator                       518 non-null    bool   \n",
      "dtypes: bool(14), float64(1), int64(6), object(23)\n",
      "memory usage: 132.5+ KB\n"
     ]
    }
   ],
   "source": [
    "df_full.info()"
   ]
  },
  {
   "cell_type": "markdown",
   "id": "47f2a025",
   "metadata": {},
   "source": [
    "'Created_At' columns is object type. Swapping to datetime."
   ]
  },
  {
   "cell_type": "code",
   "execution_count": 13,
   "id": "9a9605c5",
   "metadata": {},
   "outputs": [
    {
     "name": "stderr",
     "output_type": "stream",
     "text": [
      "F:\\Temp\\ipykernel_30056\\1730188016.py:1: UserWarning: Could not infer format, so each element will be parsed individually, falling back to `dateutil`. To ensure parsing is consistent and as-expected, please specify a format.\n",
      "  df_full['created_at'] = pd.to_datetime(df_full['created_at'], errors='coerce')\n"
     ]
    },
    {
     "data": {
      "text/plain": [
       "datetime64[ns, UTC]"
      ]
     },
     "execution_count": 13,
     "metadata": {},
     "output_type": "execute_result"
    }
   ],
   "source": [
    "df_full['created_at'] = pd.to_datetime(df_full['created_at'], errors='coerce')\n",
    "# Checking it worked.\n",
    "df_full['created_at'].dtype"
   ]
  },
  {
   "cell_type": "markdown",
   "id": "c2f970ec",
   "metadata": {},
   "source": [
    "I think that everything has been loaded successfully, but i will check some important columns to prevent errors."
   ]
  },
  {
   "cell_type": "code",
   "execution_count": 14,
   "id": "655b41f4",
   "metadata": {},
   "outputs": [
    {
     "name": "stdout",
     "output_type": "stream",
     "text": [
      "int64\n",
      "int64\n",
      "int64\n",
      "int64\n",
      "int64\n"
     ]
    }
   ],
   "source": [
    "num_cols = ['followers_count', 'friends_count', 'statuses_count', 'listed_count', 'favourites_count']\n",
    "for n in num_cols:\n",
    "    print(f'{df_full[n].dtype}')"
   ]
  },
  {
   "cell_type": "markdown",
   "id": "5ded1601",
   "metadata": {},
   "source": [
    "Veryfing class balance"
   ]
  },
  {
   "cell_type": "code",
   "execution_count": 15,
   "id": "ac18e6be",
   "metadata": {},
   "outputs": [
    {
     "data": {
      "image/png": "[encoded data removed]",
      "text/plain": [
       "<Figure size 640x480 with 1 Axes>"
      ]
     },
     "metadata": {},
     "output_type": "display_data"
    }
   ],
   "source": [
    "import matplotlib.pyplot as plt  \n",
    "import seaborn as sns   \n",
    "\n",
    "sns.countplot(x='label', data=df_full)\n",
    "plt.title('Class distribution (bots vs human)')\n",
    "plt.show()\n",
    "    "
   ]
  },
  {
   "cell_type": "markdown",
   "id": "4a005738",
   "metadata": {},
   "source": [
    "There's an obvious unbalance. Later, we have to bear in mind this to develop the model.\n",
    "\n",
    "Now, I will check outliers in important columns."
   ]
  },
  {
   "cell_type": "code",
   "execution_count": 16,
   "id": "0f6ff171",
   "metadata": {},
   "outputs": [
    {
     "data": {
      "image/png": "[encoded data removed]",
      "text/plain": [
       "<Figure size 1200x400 with 2 Axes>"
      ]
     },
     "metadata": {},
     "output_type": "display_data"
    },
    {
     "data": {
      "image/png": "[encoded data removed]",
      "text/plain": [
       "<Figure size 1200x400 with 2 Axes>"
      ]
     },
     "metadata": {},
     "output_type": "display_data"
    },
    {
     "data": {
      "image/png": "[encoded data removed]",
      "text/plain": [
       "<Figure size 1200x400 with 2 Axes>"
      ]
     },
     "metadata": {},
     "output_type": "display_data"
    }
   ],
   "source": [
    "cols_to_plot = ['followers_count','friends_count','statuses_count']\n",
    "\n",
    "for col in cols_to_plot:\n",
    "    plt.figure(figsize=(12,4))\n",
    "    # Hist\n",
    "    plt.subplot(1,2,1)\n",
    "    sns.histplot(df_full[col], bins=100, kde=True)\n",
    "    plt.title(f'Distribution of {col}')\n",
    "    plt.xscale('log')\n",
    "    plt.xlabel(col)\n",
    "    \n",
    "    #Boxplot \n",
    "    plt.subplot(1,2,2)\n",
    "    sns.boxplot(x=df_full[col])\n",
    "    plt.xscale('log')\n",
    "    plt.title(f'Boxplot of {col}')\n",
    "    \n",
    "    plt.tight_layout()\n",
    "    plt.show()"
   ]
  },
  {
   "cell_type": "markdown",
   "id": "3b14c1fa",
   "metadata": {},
   "source": [
    "There are some outliers. I will create some thresholds to filter the data."
   ]
  },
  {
   "cell_type": "code",
   "execution_count": 17,
   "id": "ec0ba8a6",
   "metadata": {},
   "outputs": [],
   "source": [
    "# Setting up the threshold.\n",
    "thresholds = {\n",
    "    'friends_count' : df_full['friends_count'].quantile(0.99),\n",
    "    'statuses_count' : df_full['statuses_count'].quantile(0.99),\n",
    "    'followers_count' : df_full['followers_count'].quantile(0.99)\n",
    "}\n",
    "# Applying.\n",
    "for col, th in thresholds.items():\n",
    "    df_full[col] = df_full[col].clip(upper=th)\n"
   ]
  },
  {
   "cell_type": "markdown",
   "id": "ad322607",
   "metadata": {},
   "source": [
    "## Feature engineering\n",
    "\n",
    "I'm creating some features to have a better vision of the behavior of every user."
   ]
  },
  {
   "cell_type": "code",
   "execution_count": 18,
   "id": "7e7902ad",
   "metadata": {},
   "outputs": [],
   "source": [
    "import numpy as np\n",
    "from datetime import datetime\n",
    "\n",
    "# Starting with ratio of followers/friends.\n",
    "df_full['followers_to_friends_ratio'] = df_full['followers_count'] / df_full['friends_count'] + 1\n",
    "\n",
    "# Lifetime of the account.\n",
    "# Deleting timezone.\n",
    "if df_full['created_at'].dt.tz is not None:\n",
    "    df_full[\"created_at\"] = df_full[\"created_at\"].dt.tz_convert(None)\n",
    "today = datetime.now()\n",
    "df_full['lifetime_account'] = (today - df_full['created_at']).dt.days\n",
    "\n",
    "# Ratio of tweets per days.\n",
    "df_full['tweets_per_day'] = df_full['statuses_count'] / (df_full['lifetime_account'] + 1)\n",
    "\n",
    "# Complexity of the biography.\n",
    "df_full[\"description_length\"] = df_full[\"description\"].astype(str).apply(len)"
   ]
  },
  {
   "cell_type": "code",
   "execution_count": 19,
   "id": "c03938da",
   "metadata": {},
   "outputs": [
    {
     "data": {
      "text/html": [
       "<div>\n",
       "<style scoped>\n",
       "    .dataframe tbody tr th:only-of-type {\n",
       "        vertical-align: middle;\n",
       "    }\n",
       "\n",
       "    .dataframe tbody tr th {\n",
       "        vertical-align: top;\n",
       "    }\n",
       "\n",
       "    .dataframe thead th {\n",
       "        text-align: right;\n",
       "    }\n",
       "</style>\n",
       "<table border=\"1\" class=\"dataframe\">\n",
       "  <thead>\n",
       "    <tr style=\"text-align: right;\">\n",
       "      <th></th>\n",
       "      <th>user_id</th>\n",
       "      <th>label</th>\n",
       "      <th>followers_count</th>\n",
       "      <th>friends_count</th>\n",
       "      <th>followers_to_friends_ratio</th>\n",
       "      <th>lifetime_account</th>\n",
       "      <th>tweets_per_day</th>\n",
       "      <th>description_length</th>\n",
       "    </tr>\n",
       "  </thead>\n",
       "  <tbody>\n",
       "    <tr>\n",
       "      <th>0</th>\n",
       "      <td>2718436417</td>\n",
       "      <td>human</td>\n",
       "      <td>104.0</td>\n",
       "      <td>111.0</td>\n",
       "      <td>1.936937</td>\n",
       "      <td>3974</td>\n",
       "      <td>0.009560</td>\n",
       "      <td>41</td>\n",
       "    </tr>\n",
       "    <tr>\n",
       "      <th>1</th>\n",
       "      <td>792615528791703553</td>\n",
       "      <td>human</td>\n",
       "      <td>43.0</td>\n",
       "      <td>104.0</td>\n",
       "      <td>1.413462</td>\n",
       "      <td>3161</td>\n",
       "      <td>2.043643</td>\n",
       "      <td>0</td>\n",
       "    </tr>\n",
       "    <tr>\n",
       "      <th>2</th>\n",
       "      <td>3287012484</td>\n",
       "      <td>human</td>\n",
       "      <td>13146.0</td>\n",
       "      <td>4909.0</td>\n",
       "      <td>3.677938</td>\n",
       "      <td>3627</td>\n",
       "      <td>22.339581</td>\n",
       "      <td>106</td>\n",
       "    </tr>\n",
       "    <tr>\n",
       "      <th>3</th>\n",
       "      <td>93816184</td>\n",
       "      <td>human</td>\n",
       "      <td>2264.0</td>\n",
       "      <td>483.0</td>\n",
       "      <td>5.687371</td>\n",
       "      <td>5686</td>\n",
       "      <td>28.171092</td>\n",
       "      <td>97</td>\n",
       "    </tr>\n",
       "    <tr>\n",
       "      <th>4</th>\n",
       "      <td>754884880996020225</td>\n",
       "      <td>bot</td>\n",
       "      <td>5258.0</td>\n",
       "      <td>6228.0</td>\n",
       "      <td>1.844252</td>\n",
       "      <td>3265</td>\n",
       "      <td>31.790876</td>\n",
       "      <td>158</td>\n",
       "    </tr>\n",
       "  </tbody>\n",
       "</table>\n",
       "</div>"
      ],
      "text/plain": [
       "              user_id  label  followers_count  friends_count  \\\n",
       "0          2718436417  human            104.0          111.0   \n",
       "1  792615528791703553  human             43.0          104.0   \n",
       "2          3287012484  human          13146.0         4909.0   \n",
       "3            93816184  human           2264.0          483.0   \n",
       "4  754884880996020225    bot           5258.0         6228.0   \n",
       "\n",
       "   followers_to_friends_ratio  lifetime_account  tweets_per_day  \\\n",
       "0                    1.936937              3974        0.009560   \n",
       "1                    1.413462              3161        2.043643   \n",
       "2                    3.677938              3627       22.339581   \n",
       "3                    5.687371              5686       28.171092   \n",
       "4                    1.844252              3265       31.790876   \n",
       "\n",
       "   description_length  \n",
       "0                  41  \n",
       "1                   0  \n",
       "2                 106  \n",
       "3                  97  \n",
       "4                 158  "
      ]
     },
     "execution_count": 19,
     "metadata": {},
     "output_type": "execute_result"
    }
   ],
   "source": [
    "df_full[[\"user_id\", \"label\", \"followers_count\", \"friends_count\",\n",
    "         \"followers_to_friends_ratio\", 'lifetime_account',\n",
    "         \"tweets_per_day\", \"description_length\"]].head()"
   ]
  },
  {
   "cell_type": "markdown",
   "id": "deb374c1",
   "metadata": {},
   "source": [
    "With the features created, let's analyse correlations."
   ]
  },
  {
   "cell_type": "code",
   "execution_count": null,
   "id": "87c9edf3",
   "metadata": {},
   "outputs": [
    {
     "name": "stdout",
     "output_type": "stream",
     "text": [
      "12\n"
     ]
    }
   ],
   "source": [
    "# Selecting numerical features.\n",
    "num_cols_new = df_full.select_dtypes(include='number').columns\n",
    "# features = num_cols_new.to_list\n",
    "print(len(num_cols_new))\n",
    "# Selecting concrete features.\n",
    "features = [\n",
    "    \"friends_count\",\n",
    "    \"followers_count\",\n",
    "    \"statuses_count\",\n",
    "    \"lifetime_account\",\n",
    "    \"followers_to_friends_ratio\",\n",
    "    \"tweets_per_day\",\n",
    "    \"description_length\",\n",
    "]\n"
   ]
  },
  {
   "cell_type": "code",
   "execution_count": 28,
   "id": "f4d3882c",
   "metadata": {},
   "outputs": [
    {
     "data": {
      "image/png": "[encoded data removed]",
      "text/plain": [
       "<Figure size 1000x800 with 2 Axes>"
      ]
     },
     "metadata": {},
     "output_type": "display_data"
    }
   ],
   "source": [
    "# Mapping the label variable to bool.\n",
    "df_full['label_encoded'] = df_full['label'].map({'human':0, 'bot':1})\n",
    "# Creating the correlation.\n",
    "corr = df_full[features + ['label_encoded']].corr()\n",
    "# Showing on a figure.\n",
    "plt.figure(figsize=(10,8))\n",
    "sns.heatmap(corr, annot=True, cmap='coolwarm', vmin=-1, vmax=1)\n",
    "plt.show()\n"
   ]
  },
  {
   "cell_type": "markdown",
   "id": "e3e72490",
   "metadata": {},
   "source": [
    "The correlations don't show much."
   ]
  },
  {
   "cell_type": "markdown",
   "id": "b83b0afd",
   "metadata": {},
   "source": [
    "## Model Training\n",
    "\n",
    "First model will be a Random Forest to encounter as fast as possible a baseline.\n",
    "\n",
    "I'll start by dividing the dataset on Training & Test."
   ]
  },
  {
   "cell_type": "code",
   "execution_count": 29,
   "id": "1d3cda45",
   "metadata": {},
   "outputs": [],
   "source": [
    "from sklearn.model_selection import train_test_split\n",
    "\n",
    "# X & Y.\n",
    "X = df_full[features]\n",
    "y = df_full['label_encoded']\n",
    "\n",
    "X_train, X_test, y_train, y_test = train_test_split(X,y,test_size=0.2, stratify=y, random_state=42)"
   ]
  },
  {
   "cell_type": "code",
   "execution_count": 31,
   "id": "2cdf6391",
   "metadata": {},
   "outputs": [],
   "source": [
    "# Infinite values.\n",
    "X_train = X_train.replace([np.inf, -np.inf], np.nan)\n",
    "X_test = X_test.replace([np.inf, -np.inf], np.nan)\n",
    "\n",
    "# NaN values changed for 0.\n",
    "X_train = X_train.fillna(0)\n",
    "X_test = X_test.fillna(0)"
   ]
  },
  {
   "cell_type": "markdown",
   "id": "66b00b65",
   "metadata": {},
   "source": [
    "Now, the model will be developed."
   ]
  },
  {
   "cell_type": "code",
   "execution_count": 32,
   "id": "742527bc",
   "metadata": {},
   "outputs": [
    {
     "name": "stdout",
     "output_type": "stream",
     "text": [
      "              precision    recall  f1-score   support\n",
      "\n",
      "           0       0.86      0.95      0.90        76\n",
      "           1       0.80      0.57      0.67        28\n",
      "\n",
      "    accuracy                           0.85       104\n",
      "   macro avg       0.83      0.76      0.78       104\n",
      "weighted avg       0.84      0.85      0.84       104\n",
      "\n"
     ]
    },
    {
     "data": {
      "image/png": "[encoded data removed]",
      "text/plain": [
       "<Figure size 640x480 with 2 Axes>"
      ]
     },
     "metadata": {},
     "output_type": "display_data"
    }
   ],
   "source": [
    "from sklearn.ensemble import RandomForestClassifier\n",
    "from sklearn.metrics import classification_report, confusion_matrix\n",
    "\n",
    "# Selecting the model.\n",
    "model = RandomForestClassifier(random_state=42, class_weight='balanced')\n",
    "model.fit(X_train, y_train)\n",
    "# Predict.\n",
    "y_pred = model.predict(X_test)\n",
    "# Evaluation.\n",
    "print(classification_report(y_test, y_pred))\n",
    "sns.heatmap(confusion_matrix(y_test, y_pred), annot=True, fmt='d', cmap='Blues')\n",
    "plt.show()"
   ]
  },
  {
   "cell_type": "markdown",
   "id": "c15e8ffb",
   "metadata": {},
   "source": [
    "Very good results for a first model. Decent accuracy & precision.\n",
    "\n",
    "I'll design an inferency funtion to insert data into the model to check how the model works."
   ]
  },
  {
   "cell_type": "code",
   "execution_count": 33,
   "id": "db5df1a8",
   "metadata": {},
   "outputs": [],
   "source": [
    "def predict_user(model, user_data):\n",
    "    # Temporal dataframe.\n",
    "    df_user = pd.DataFrame([user_data])\n",
    "    # Replace inf for NaN, after for 0.\n",
    "    df_user = df_user.replace([np.inf, -np.inf], np.nan).fillna(0)\n",
    "    # Predict.\n",
    "    pred = model.predict(df_user)\n",
    "    if pred[0] == 1:\n",
    "        return 'The user inserted is a Bot.'\n",
    "    else: \n",
    "        return 'The user inserted is a Human.'"
   ]
  },
  {
   "cell_type": "code",
   "execution_count": 36,
   "id": "48273a76",
   "metadata": {},
   "outputs": [],
   "source": [
    "user_data_example = {\n",
    "    \"friends_count\": 150,\n",
    "    \"followers_count\": 300,\n",
    "    \"statuses_count\": 1000,\n",
    "    \"lifetime_account\": 500,\n",
    "    \"followers_to_friends_ratio\": 2.0,\n",
    "    \"tweets_per_day\": 2.5,\n",
    "    \"description_length\": 120\n",
    "}"
   ]
  },
  {
   "cell_type": "code",
   "execution_count": 37,
   "id": "42de5e54",
   "metadata": {},
   "outputs": [
    {
     "name": "stdout",
     "output_type": "stream",
     "text": [
      "The user inserted is a Human.\n"
     ]
    }
   ],
   "source": [
    "result = predict_user(model, user_data_example)\n",
    "print(result)"
   ]
  },
  {
   "cell_type": "markdown",
   "id": "15623843",
   "metadata": {},
   "source": [
    "I'll do some other tries."
   ]
  },
  {
   "cell_type": "code",
   "execution_count": 38,
   "id": "867f5e69",
   "metadata": {},
   "outputs": [],
   "source": [
    "user_data_1 = {\n",
    "    \"friends_count\": 10,\n",
    "    \"followers_count\": 5,\n",
    "    \"statuses_count\": 50,\n",
    "    \"lifetime_account\": 100,\n",
    "    \"followers_to_friends_ratio\": 0.5,\n",
    "    \"tweets_per_day\": 0.5,\n",
    "    \"description_length\": 30,\n",
    "}\n",
    "user_data_2 = {\n",
    "    \"friends_count\": 2000,\n",
    "    \"followers_count\": 5000,\n",
    "    \"statuses_count\": 15000,\n",
    "    \"lifetime_account\": 2500,\n",
    "    \"followers_to_friends_ratio\": 2.5,\n",
    "    \"tweets_per_day\": 6,\n",
    "    \"description_length\": 100,\n",
    "}\n",
    "user_data_3 = {\n",
    "    \"friends_count\": 500,\n",
    "    \"followers_count\": 20,\n",
    "    \"statuses_count\": 800,\n",
    "    \"lifetime_account\": 300,\n",
    "    \"followers_to_friends_ratio\": 0.04,\n",
    "    \"tweets_per_day\": 2.66,\n",
    "    \"description_length\": 15,\n",
    "}"
   ]
  },
  {
   "cell_type": "code",
   "execution_count": 39,
   "id": "8e80cbab",
   "metadata": {},
   "outputs": [
    {
     "name": "stdout",
     "output_type": "stream",
     "text": [
      "The user inserted is a Human.\n",
      "The user inserted is a Human.\n",
      "The user inserted is a Human.\n"
     ]
    }
   ],
   "source": [
    "for idx, user_data in enumerate([user_data_1, user_data_2, user_data_3], 1):\n",
    "    result = predict_user(model,user_data)\n",
    "    print(result)"
   ]
  },
  {
   "cell_type": "markdown",
   "id": "b0734b3a",
   "metadata": {},
   "source": [
    "Saving the model"
   ]
  },
  {
   "cell_type": "code",
   "execution_count": 40,
   "id": "1f23c7d8",
   "metadata": {},
   "outputs": [
    {
     "name": "stdout",
     "output_type": "stream",
     "text": [
      "Model saved succesfully!\n"
     ]
    }
   ],
   "source": [
    "import pickle\n",
    "\n",
    "with open('model.pkl','wb') as f:\n",
    "    pickle.dump(model, f)\n",
    "print('Model saved succesfully!')"
   ]
  }
 ],
 "metadata": {
  "kernelspec": {
   "display_name": "ML",
   "language": "python",
   "name": "python3"
  },
  "language_info": {
   "codemirror_mode": {
    "name": "ipython",
    "version": 3
   },
   "file_extension": ".py",
   "mimetype": "text/x-python",
   "name": "python",
   "nbconvert_exporter": "python",
   "pygments_lexer": "ipython3",
   "version": "3.12.9"
  }
 },
 "nbformat": 4,
 "nbformat_minor": 5
}
